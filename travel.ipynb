{
  "nbformat": 4,
  "nbformat_minor": 0,
  "metadata": {
    "colab": {
      "provenance": [],
      "authorship_tag": "ABX9TyOFMmsEkEbKFszShadNlABC",
      "include_colab_link": true
    },
    "kernelspec": {
      "name": "python3",
      "display_name": "Python 3"
    },
    "language_info": {
      "name": "python"
    }
  },
  "cells": [
    {
      "cell_type": "markdown",
      "metadata": {
        "id": "view-in-github",
        "colab_type": "text"
      },
      "source": [
        "<a href=\"https://colab.research.google.com/github/JUANPABLO-0826/TravelInsight/blob/main/travel.ipynb\" target=\"_parent\"><img src=\"https://colab.research.google.com/assets/colab-badge.svg\" alt=\"Open In Colab\"/></a>"
      ]
    },
    {
      "cell_type": "markdown",
      "source": [
        "### TRAVEL INSIGHT"
      ],
      "metadata": {
        "id": "bZnkdgHRMhEd"
      }
    },
    {
      "cell_type": "code",
      "execution_count": 4,
      "metadata": {
        "colab": {
          "base_uri": "https://localhost:8080/"
        },
        "id": "w9YI5Z-AMRVI",
        "outputId": "f9093309-dcfc-4bea-964a-62d0bfa04239"
      },
      "outputs": [
        {
          "output_type": "stream",
          "name": "stdout",
          "text": [
            "Requirement already satisfied: pandas in /usr/local/lib/python3.11/dist-packages (2.2.2)\n",
            "Requirement already satisfied: numpy>=1.23.2 in /usr/local/lib/python3.11/dist-packages (from pandas) (2.0.2)\n",
            "Requirement already satisfied: python-dateutil>=2.8.2 in /usr/local/lib/python3.11/dist-packages (from pandas) (2.9.0.post0)\n",
            "Requirement already satisfied: pytz>=2020.1 in /usr/local/lib/python3.11/dist-packages (from pandas) (2025.2)\n",
            "Requirement already satisfied: tzdata>=2022.7 in /usr/local/lib/python3.11/dist-packages (from pandas) (2025.2)\n",
            "Requirement already satisfied: six>=1.5 in /usr/local/lib/python3.11/dist-packages (from python-dateutil>=2.8.2->pandas) (1.17.0)\n",
            "Requirement already satisfied: flask in /usr/local/lib/python3.11/dist-packages (3.1.1)\n",
            "Requirement already satisfied: flask-ngrok in /usr/local/lib/python3.11/dist-packages (0.0.25)\n",
            "Requirement already satisfied: blinker>=1.9.0 in /usr/local/lib/python3.11/dist-packages (from flask) (1.9.0)\n",
            "Requirement already satisfied: click>=8.1.3 in /usr/local/lib/python3.11/dist-packages (from flask) (8.2.1)\n",
            "Requirement already satisfied: itsdangerous>=2.2.0 in /usr/local/lib/python3.11/dist-packages (from flask) (2.2.0)\n",
            "Requirement already satisfied: jinja2>=3.1.2 in /usr/local/lib/python3.11/dist-packages (from flask) (3.1.6)\n",
            "Requirement already satisfied: markupsafe>=2.1.1 in /usr/local/lib/python3.11/dist-packages (from flask) (3.0.2)\n",
            "Requirement already satisfied: werkzeug>=3.1.0 in /usr/local/lib/python3.11/dist-packages (from flask) (3.1.3)\n",
            "Requirement already satisfied: requests in /usr/local/lib/python3.11/dist-packages (from flask-ngrok) (2.32.3)\n",
            "Requirement already satisfied: charset-normalizer<4,>=2 in /usr/local/lib/python3.11/dist-packages (from requests->flask-ngrok) (3.4.2)\n",
            "Requirement already satisfied: idna<4,>=2.5 in /usr/local/lib/python3.11/dist-packages (from requests->flask-ngrok) (3.10)\n",
            "Requirement already satisfied: urllib3<3,>=1.21.1 in /usr/local/lib/python3.11/dist-packages (from requests->flask-ngrok) (2.5.0)\n",
            "Requirement already satisfied: certifi>=2017.4.17 in /usr/local/lib/python3.11/dist-packages (from requests->flask-ngrok) (2025.7.14)\n",
            "Collecting pyngrok\n",
            "  Downloading pyngrok-7.2.12-py3-none-any.whl.metadata (9.4 kB)\n",
            "Requirement already satisfied: PyYAML>=5.1 in /usr/local/lib/python3.11/dist-packages (from pyngrok) (6.0.2)\n",
            "Downloading pyngrok-7.2.12-py3-none-any.whl (26 kB)\n",
            "Installing collected packages: pyngrok\n",
            "Successfully installed pyngrok-7.2.12\n"
          ]
        }
      ],
      "source": [
        "# con esto Instalas la libreria\n",
        "!pip install pandas\n",
        "!pip install flask flask-ngrok\n",
        "!pip install pyngrok"
      ]
    },
    {
      "cell_type": "code",
      "source": [
        "from pyngrok import conf\n",
        "# Configurar ngrok authtoken\n",
        "conf.get_default().auth_token = \"30KVIM2dHFxcJjsTBq9va5jyszC_65wEZww5VZKwqiEYTEmrg\"\n",
        "\n"
      ],
      "metadata": {
        "id": "jH9GpNQqYElR"
      },
      "execution_count": 5,
      "outputs": []
    },
    {
      "cell_type": "code",
      "source": [
        "from flask import Flask, jsonify\n",
        "from pyngrok import ngrok\n",
        "import pandas as pd\n",
        "\n",
        "# Cargar datos desde GitHub\n",
        "url = \"https://raw.githubusercontent.com/MunchiP/TravleInsight/refs/heads/JuanPablo/Travel/rnt_limpio.csv\"\n",
        "df = pd.read_csv(url)\n",
        "\n",
        "# Crear la app\n",
        "app = Flask(__name__)\n",
        "\n",
        "@app.route(\"/\")\n",
        "def index():\n",
        "    return \"✅ API Travel Insight funcionando\"\n",
        "\n",
        "# /api/destinos → primeros 10 registros\n",
        "@app.route(\"/api/destinos\")\n",
        "def destinos():\n",
        "    data = df.head(10).to_dict(orient=\"records\")\n",
        "    return jsonify(data)\n",
        "\n",
        "# /api/municipios → lista de municipios únicos\n",
        "@app.route(\"/api/municipios\")\n",
        "def municipios():\n",
        "    municipios = df[\"MUNICIPIO\"].dropna().unique().tolist()\n",
        "    return jsonify(municipios)\n",
        "\n",
        "# /api/categorias → lista de categorías únicas\n",
        "@app.route(\"/api/categorias\")\n",
        "def categorias():\n",
        "    cats = df[\"CATEGORIA\"].dropna().unique().tolist()\n",
        "    return jsonify(cats)\n",
        "\n",
        "@app.route(\"/api/destinos/<municipio>\")\n",
        "def destinos_por_municipio(municipio):\n",
        "    try:\n",
        "        # Eliminamos NaN en MUNICIPIO para evitar errores\n",
        "        df_validos = df.dropna(subset=[\"MUNICIPIO\"])\n",
        "\n",
        "        # Filtramos ignorando mayúsculas y tildes\n",
        "        filtro = df_validos[df_validos[\"MUNICIPIO\"].str.lower() == municipio.lower()]\n",
        "\n",
        "        # Devuelve los resultados\n",
        "        return jsonify(filtro.to_dict(orient=\"records\"))\n",
        "    except Exception as e:\n",
        "        return jsonify({\"error\": str(e)}), 500\n",
        "\n",
        "# /api/top-municipios → top 5 municipios con más registros\n",
        "@app.route(\"/api/top-municipios\")\n",
        "def top_municipios():\n",
        "    try:\n",
        "        top = df[\"MUNICIPIO\"].value_counts().head(5).to_dict()\n",
        "        return jsonify(top)\n",
        "    except Exception as e:\n",
        "        return jsonify({\"error\": str(e)}), 500\n",
        "\n",
        "\n",
        "# Filtrar por categoría\n",
        "@app.route(\"/api/categoria/<nombre>\")\n",
        "def por_categoria(nombre):\n",
        "    try:\n",
        "        filtro = df[df[\"CATEGORIA\"].str.lower() == nombre.lower()]\n",
        "        return jsonify(filtro.to_dict(orient=\"records\"))\n",
        "    except Exception as e:\n",
        "        return jsonify({\"error\": str(e)}), 500\n",
        "\n",
        "\n",
        "# Crear túnel público\n",
        "public_url = ngrok.connect(5000)\n",
        "print(\"🔗 Tu API está disponible en:\", public_url)\n",
        "\n",
        "# Ejecutar la app\n",
        "app.run(port=5000)"
      ],
      "metadata": {
        "colab": {
          "base_uri": "https://localhost:8080/"
        },
        "id": "OuRBLnvBMuvq",
        "outputId": "8a9dca98-6a4e-4546-fa16-1cf31b258ba6"
      },
      "execution_count": 6,
      "outputs": [
        {
          "output_type": "stream",
          "name": "stdout",
          "text": [
            "🔗 Tu API está disponible en: NgrokTunnel: \"https://327bb871c0af.ngrok-free.app\" -> \"http://localhost:5000\"\n",
            " * Serving Flask app '__main__'\n",
            " * Debug mode: off\n"
          ]
        },
        {
          "output_type": "stream",
          "name": "stderr",
          "text": [
            "INFO:werkzeug:\u001b[31m\u001b[1mWARNING: This is a development server. Do not use it in a production deployment. Use a production WSGI server instead.\u001b[0m\n",
            " * Running on http://127.0.0.1:5000\n",
            "INFO:werkzeug:\u001b[33mPress CTRL+C to quit\u001b[0m\n"
          ]
        }
      ]
    },
    {
      "cell_type": "code",
      "source": [
        "print(df[\"MUNICIPIO\"].value_counts().head(5))\n"
      ],
      "metadata": {
        "colab": {
          "base_uri": "https://localhost:8080/"
        },
        "id": "dAgqLuw9jChF",
        "outputId": "272d7f18-c9c3-4ef1-c4b4-23b6157ee732"
      },
      "execution_count": 7,
      "outputs": [
        {
          "output_type": "stream",
          "name": "stdout",
          "text": [
            "MUNICIPIO\n",
            "VILLA DE LEYVA    896\n",
            "RICAURTE          743\n",
            "GIRARDOT          643\n",
            "VILLETA           478\n",
            "PAIPA             452\n",
            "Name: count, dtype: int64\n"
          ]
        }
      ]
    },
    {
      "cell_type": "code",
      "source": [
        "print(df[\"CATEGORIA\"].value_counts().head(5))"
      ],
      "metadata": {
        "id": "aPQ2qR0qjDTh",
        "outputId": "dd570617-cfca-4e5e-c6d3-5ea73ff3b781",
        "colab": {
          "base_uri": "https://localhost:8080/"
        }
      },
      "execution_count": 8,
      "outputs": [
        {
          "output_type": "stream",
          "name": "stdout",
          "text": [
            "CATEGORIA\n",
            "VIVIENDAS TURÍSTICAS                         6880\n",
            "ESTABLECIMIENTOS DE ALOJAMIENTO TURÍSTICO    2401\n",
            "AGENCIAS DE VIAJES                           1400\n",
            "GUIAS DE TURISMO                              529\n",
            "ESTABLECIMIENTOS DE GASTRONOMÍA               118\n",
            "Name: count, dtype: int64\n"
          ]
        }
      ]
    }
  ]
}