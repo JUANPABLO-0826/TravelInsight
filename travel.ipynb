{
  "nbformat": 4,
  "nbformat_minor": 0,
  "metadata": {
    "colab": {
      "provenance": [],
      "authorship_tag": "ABX9TyPOpVvSiA4sO9XC6qS6zzo+",
      "include_colab_link": true
    },
    "kernelspec": {
      "name": "python3",
      "display_name": "Python 3"
    },
    "language_info": {
      "name": "python"
    }
  },
  "cells": [
    {
      "cell_type": "markdown",
      "metadata": {
        "id": "view-in-github",
        "colab_type": "text"
      },
      "source": [
        "<a href=\"https://colab.research.google.com/github/JUANPABLO-0826/TravelInsight/blob/main/travel.ipynb\" target=\"_parent\"><img src=\"https://colab.research.google.com/assets/colab-badge.svg\" alt=\"Open In Colab\"/></a>"
      ]
    },
    {
      "cell_type": "markdown",
      "source": [
        "### TRAVEL INSIGHT"
      ],
      "metadata": {
        "id": "bZnkdgHRMhEd"
      }
    },
    {
      "cell_type": "code",
      "execution_count": 4,
      "metadata": {
        "colab": {
          "base_uri": "https://localhost:8080/"
        },
        "id": "w9YI5Z-AMRVI",
        "outputId": "f9093309-dcfc-4bea-964a-62d0bfa04239"
      },
      "outputs": [
        {
          "output_type": "stream",
          "name": "stdout",
          "text": [
            "Requirement already satisfied: pandas in /usr/local/lib/python3.11/dist-packages (2.2.2)\n",
            "Requirement already satisfied: numpy>=1.23.2 in /usr/local/lib/python3.11/dist-packages (from pandas) (2.0.2)\n",
            "Requirement already satisfied: python-dateutil>=2.8.2 in /usr/local/lib/python3.11/dist-packages (from pandas) (2.9.0.post0)\n",
            "Requirement already satisfied: pytz>=2020.1 in /usr/local/lib/python3.11/dist-packages (from pandas) (2025.2)\n",
            "Requirement already satisfied: tzdata>=2022.7 in /usr/local/lib/python3.11/dist-packages (from pandas) (2025.2)\n",
            "Requirement already satisfied: six>=1.5 in /usr/local/lib/python3.11/dist-packages (from python-dateutil>=2.8.2->pandas) (1.17.0)\n",
            "Requirement already satisfied: flask in /usr/local/lib/python3.11/dist-packages (3.1.1)\n",
            "Requirement already satisfied: flask-ngrok in /usr/local/lib/python3.11/dist-packages (0.0.25)\n",
            "Requirement already satisfied: blinker>=1.9.0 in /usr/local/lib/python3.11/dist-packages (from flask) (1.9.0)\n",
            "Requirement already satisfied: click>=8.1.3 in /usr/local/lib/python3.11/dist-packages (from flask) (8.2.1)\n",
            "Requirement already satisfied: itsdangerous>=2.2.0 in /usr/local/lib/python3.11/dist-packages (from flask) (2.2.0)\n",
            "Requirement already satisfied: jinja2>=3.1.2 in /usr/local/lib/python3.11/dist-packages (from flask) (3.1.6)\n",
            "Requirement already satisfied: markupsafe>=2.1.1 in /usr/local/lib/python3.11/dist-packages (from flask) (3.0.2)\n",
            "Requirement already satisfied: werkzeug>=3.1.0 in /usr/local/lib/python3.11/dist-packages (from flask) (3.1.3)\n",
            "Requirement already satisfied: requests in /usr/local/lib/python3.11/dist-packages (from flask-ngrok) (2.32.3)\n",
            "Requirement already satisfied: charset-normalizer<4,>=2 in /usr/local/lib/python3.11/dist-packages (from requests->flask-ngrok) (3.4.2)\n",
            "Requirement already satisfied: idna<4,>=2.5 in /usr/local/lib/python3.11/dist-packages (from requests->flask-ngrok) (3.10)\n",
            "Requirement already satisfied: urllib3<3,>=1.21.1 in /usr/local/lib/python3.11/dist-packages (from requests->flask-ngrok) (2.5.0)\n",
            "Requirement already satisfied: certifi>=2017.4.17 in /usr/local/lib/python3.11/dist-packages (from requests->flask-ngrok) (2025.7.14)\n",
            "Collecting pyngrok\n",
            "  Downloading pyngrok-7.2.12-py3-none-any.whl.metadata (9.4 kB)\n",
            "Requirement already satisfied: PyYAML>=5.1 in /usr/local/lib/python3.11/dist-packages (from pyngrok) (6.0.2)\n",
            "Downloading pyngrok-7.2.12-py3-none-any.whl (26 kB)\n",
            "Installing collected packages: pyngrok\n",
            "Successfully installed pyngrok-7.2.12\n"
          ]
        }
      ],
      "source": [
        "# con esto Instalas la libreria\n",
        "!pip install pandas\n",
        "!pip install flask flask-ngrok\n",
        "!pip install pyngrok"
      ]
    },
    {
      "cell_type": "code",
      "source": [
        "from pyngrok import conf\n",
        "# Configurar ngrok authtoken\n",
        "conf.get_default().auth_token = \"30KVIM2dHFxcJjsTBq9va5jyszC_65wEZww5VZKwqiEYTEmrg\"\n",
        "\n"
      ],
      "metadata": {
        "id": "jH9GpNQqYElR"
      },
      "execution_count": 5,
      "outputs": []
    },
    {
      "cell_type": "code",
      "source": [
        "from flask import Flask, jsonify\n",
        "from pyngrok import ngrok\n",
        "import pandas as pd\n",
        "\n",
        "# Cargar datos desde GitHub\n",
        "url = \"https://raw.githubusercontent.com/MunchiP/TravleInsight/refs/heads/JuanPablo/Travel/rnt_limpio.csv\"\n",
        "df = pd.read_csv(url)\n",
        "\n",
        "# Crear la app\n",
        "app = Flask(__name__)\n",
        "\n",
        "@app.route(\"/\")\n",
        "def index():\n",
        "    return \"✅ API Travel Insight funcionando\"\n",
        "\n",
        "# /api/destinos → primeros 10 registros\n",
        "@app.route(\"/api/destinos\")\n",
        "def destinos():\n",
        "    data = df.head(10).to_dict(orient=\"records\")\n",
        "    return jsonify(data)\n",
        "\n",
        "# /api/municipios → lista de municipios únicos\n",
        "@app.route(\"/api/municipios\")\n",
        "def municipios():\n",
        "    municipios = df[\"MUNICIPIO\"].dropna().unique().tolist()\n",
        "    return jsonify(municipios)\n",
        "\n",
        "# /api/categorias → lista de categorías únicas\n",
        "@app.route(\"/api/categorias\")\n",
        "def categorias():\n",
        "    cats = df[\"CATEGORIA\"].dropna().unique().tolist()\n",
        "    return jsonify(cats)\n",
        "\n",
        "@app.route(\"/api/destinos/<municipio>\")\n",
        "def destinos_por_municipio(municipio):\n",
        "    try:\n",
        "        # Eliminamos NaN en MUNICIPIO para evitar errores\n",
        "        df_validos = df.dropna(subset=[\"MUNICIPIO\"])\n",
        "\n",
        "        # Filtramos ignorando mayúsculas y tildes\n",
        "        filtro = df_validos[df_validos[\"MUNICIPIO\"].str.lower() == municipio.lower()]\n",
        "\n",
        "        # Devuelve los resultados\n",
        "        return jsonify(filtro.to_dict(orient=\"records\"))\n",
        "    except Exception as e:\n",
        "        return jsonify({\"error\": str(e)}), 500\n",
        "\n",
        "# /api/top-municipios → top 5 municipios con más registros\n",
        "@app.route(\"/api/top-municipios\")\n",
        "def top_municipios():\n",
        "    try:\n",
        "        top = df[\"MUNICIPIO\"].value_counts().head(5).to_dict()\n",
        "        return jsonify(top)\n",
        "    except Exception as e:\n",
        "        return jsonify({\"error\": str(e)}), 500\n",
        "\n",
        "\n",
        "# Filtrar por categoría\n",
        "@app.route(\"/api/categoria/<nombre>\")\n",
        "def por_categoria(nombre):\n",
        "    try:\n",
        "        filtro = df[df[\"CATEGORIA\"].str.lower() == nombre.lower()]\n",
        "        return jsonify(filtro.to_dict(orient=\"records\"))\n",
        "    except Exception as e:\n",
        "        return jsonify({\"error\": str(e)}), 500\n",
        "\n",
        "\n",
        "# Crear túnel público\n",
        "public_url = ngrok.connect(5000)\n",
        "print(\"🔗 Tu API está disponible en:\", public_url)\n",
        "\n",
        "# Ejecutar la app\n",
        "app.run(port=5000)"
      ],
      "metadata": {
        "colab": {
          "base_uri": "https://localhost:8080/"
        },
        "id": "OuRBLnvBMuvq",
        "outputId": "8a9dca98-6a4e-4546-fa16-1cf31b258ba6"
      },
      "execution_count": 6,
      "outputs": [
        {
          "output_type": "stream",
          "name": "stdout",
          "text": [
            "🔗 Tu API está disponible en: NgrokTunnel: \"https://327bb871c0af.ngrok-free.app\" -> \"http://localhost:5000\"\n",
            " * Serving Flask app '__main__'\n",
            " * Debug mode: off\n"
          ]
        },
        {
          "output_type": "stream",
          "name": "stderr",
          "text": [
            "INFO:werkzeug:\u001b[31m\u001b[1mWARNING: This is a development server. Do not use it in a production deployment. Use a production WSGI server instead.\u001b[0m\n",
            " * Running on http://127.0.0.1:5000\n",
            "INFO:werkzeug:\u001b[33mPress CTRL+C to quit\u001b[0m\n"
          ]
        }
      ]
    },
    {
      "cell_type": "code",
      "source": [
        "print(df[\"MUNICIPIO\"].unique())\n"
      ],
      "metadata": {
        "colab": {
          "base_uri": "https://localhost:8080/"
        },
        "id": "dAgqLuw9jChF",
        "outputId": "e5c7aa3a-f340-4009-a909-5c682eecaf63"
      },
      "execution_count": 11,
      "outputs": [
        {
          "output_type": "stream",
          "name": "stdout",
          "text": [
            "['TUNJA' 'PAIPA' 'SOGAMOSO' 'GIRARDOT' 'FUQUENE' 'CHIQUINQUIRA' 'CUITIVA'\n",
            " 'CAJICA' 'ZIPAQUIRA' 'MONIQUIRA' 'DUITAMA' 'SOPO' 'TIBASOSA'\n",
            " 'VILLA DE LEYVA' 'RICAURTE' 'ANAPOIMA' 'TIBANA' 'VILLETA' 'FUSAGASUGA'\n",
            " 'TOCAIMA' 'VILLAPINZON' 'LA VEGA' 'EL COLEGIO' 'CAPARRAPI' 'CHOCONTA'\n",
            " 'LA MESA' 'PUERTO BOYACA' 'SANTA ROSA DE VITERBO' 'FACATATIVA' 'GUADUAS'\n",
            " 'SUBACHOQUE' 'CHIA' 'GUATEQUE' 'CAQUEZA' 'GUASCA' 'SOACHA' 'RAQUIRA'\n",
            " 'SUTAMARCHAN' 'CHOACHI' 'GUATAVITA' 'IZA' 'NIMAIMA' 'NOBSA' 'UTICA'\n",
            " 'SASAIMA' 'QUEBRADANEGRA' 'FOMEQUE' 'NOCAIMA' 'COTA' 'SORACA' 'GACHETA'\n",
            " 'TINJACA' 'FUNZA' 'AQUITANIA (PUEBLO VIEJO)' 'SACHICA' 'PARATEBUENO'\n",
            " 'GACHANTIVA' 'MOSQUERA' 'SAN MATEO' 'SAMACA' 'CACHIPAY'\n",
            " 'RAFAEL REYES (APULO)' 'UBAQUE' 'TIBACUY' 'UBATE' 'GACHANCIPA' 'EL COCUY'\n",
            " 'VENTAQUEMADA' 'PUERTO SALGAR' 'CHITARAQUE' 'GUICAN' 'ARCABUCO' 'GACHALA'\n",
            " 'VIOTA' 'SANTA MARIA' 'SIBATE' 'FIRAVITOBA' 'SOATA' 'MADRID' 'TOGUI'\n",
            " 'PESCA' 'PANQUEBA' 'COGUA' 'TOCANCIPA' 'SUESCA' 'CIENEGA' 'TAUSA'\n",
            " 'SAN FRANCISCO' 'GUACHETA' 'PAUNA' 'CUCUNUBA' 'TUTA' 'EL ESPINO'\n",
            " 'SANTA SOFIA' 'PACHO' 'BELEN' 'SOTAQUIRA' 'SAN ANTONIO DE TENA' 'CUCAITA'\n",
            " 'MACANAL' 'MONGUI' 'GARAGOA' 'ZETAQUIRA' 'SILVANIA' 'LA CALERA'\n",
            " 'MIRAFLORES' 'ARBELAEZ' 'PAEZ' 'GUACAMAYAS' 'SIACHOQUE' 'VIANI' 'CHIVOR'\n",
            " 'MACHETA' 'RAMIRIQUI' 'COMBITA' 'TIBIRITA' 'SOCHA' 'SUTATAUSA' 'TENJO'\n",
            " 'CHIPAQUE' 'MUZO' 'LA PEÑA' 'AGUA DE DIOS' 'JENESANO' 'OTANCHE' 'CHISCAS'\n",
            " 'VERGARA' 'SAN LUIS DE GACENO' 'FOSCA' 'CHAGUANI' 'SORA' 'TOPAGA' 'TABIO'\n",
            " 'SANTANA' 'SIMIJACA' 'SAN JOSE DE PARE' 'GUAYATA' 'SAN EDUARDO'\n",
            " 'LA CAPILLA' 'FLORESTA' 'NILO' 'BERBEO' 'SAN PABLO BORBUR' 'JUNIN'\n",
            " 'QUETAME' 'NEMOCON' 'MEDINA' 'GUAYABETAL' 'SESQUILE' 'TENA' 'TOTA'\n",
            " 'UBALA' 'SUTATENZA' 'SOMONDOCO' 'BOJACA' 'GUATAQUI' 'LA UVITA' 'TURMEQUE'\n",
            " 'BELTRAN' 'GRANADA (CUND.)' 'PAJARITO' 'SAN BERNARDO' 'ANOLAIMA'\n",
            " 'BUENAVISTA' 'BITUIMA' 'TOCA' 'ALBAN' 'EL ROSAL' 'SUPATA'\n",
            " 'CARMEN DE CARUPA' 'CHIQUIZA' 'TENZA' 'SUSA' 'GUAYABAL DE SIQUIMA'\n",
            " 'SABOYA' 'ZIPACON' 'SAN JUAN DE RIOSECO' 'QUIPILE' 'MARIPI' 'MOTAVITA'\n",
            " 'BRICEÑO' 'UNE' 'CUBARA' 'LENGUAZAQUE' 'OICATA' 'NUEVO COLON' 'CHINAVITA'\n",
            " 'MANTA' 'VENECIA' 'GAMEZA' 'BOYACA' 'GAMA' 'PAYA' 'VIRACACHA' 'SUSACON'\n",
            " 'PAZ DE RIO' 'CAMPOHERMOSO' 'NARIÑO' 'PANDI' 'JERUSALEN' 'BOAVITA'\n",
            " 'LABRANZAGRANDE' 'CHIVATA' 'ALMEIDA' 'PASCA' 'CERINZA' 'UMBITA' 'YACOPI'\n",
            " 'COVARACHIA' 'TIPACOQUE' 'LA PALMA' 'MONGUA' 'CORRALES' 'SOCOTA'\n",
            " 'EL PEÑON' 'GUTIERREZ' 'TOPAIPI' 'SAN MIGUEL DE SEMA' 'CALDAS' 'COPER'\n",
            " 'CHITA']\n"
          ]
        }
      ]
    },
    {
      "cell_type": "code",
      "source": [
        "print(df[\"CATEGORIA\"].unique())"
      ],
      "metadata": {
        "id": "aPQ2qR0qjDTh",
        "outputId": "17e0124f-971f-40fe-a832-5eddbab75ce5",
        "colab": {
          "base_uri": "https://localhost:8080/"
        }
      },
      "execution_count": 9,
      "outputs": [
        {
          "output_type": "stream",
          "name": "stdout",
          "text": [
            "['AGENCIAS DE VIAJES' 'ESTABLECIMIENTOS DE ALOJAMIENTO TURÍSTICO'\n",
            " 'OFICINAS DE REPRESENTACION TURÍSTICA'\n",
            " 'EMPRESAS CAPTADORAS DE AHORRO PARA VIAJES' 'GUIAS DE TURISMO'\n",
            " 'VIVIENDAS TURÍSTICAS' 'EMPRESAS DE TRANSPORTE TERRESTRE AUTOMOTOR'\n",
            " 'ESTABLECIMIENTOS DE GASTRONOMÍA'\n",
            " 'OPERADORES PROFESIONALES DE CONGRESOS FERIAS Y CONVENCIONES'\n",
            " 'PARQUES TEMÁTICOS' 'CONCESIONARIOS DE SERVICIOS TURÍSTICOS EN PARQUE'\n",
            " 'USUARIOS INDUSTRIALES OPERADORES O DESARROLLADORES DE SERVICIOS TURISTICOS DE LAS ZONAS FRANCAS'\n",
            " 'ARRENDADORES DE VEHÍCULOS PARA TURISMO NACIONAL E INTERNACIONAL'\n",
            " 'EMPRESAS DE TIEMPO COMPARTIDO Y MULTIPROPIEDAD' 'BARES'\n",
            " 'OPERADORES DE PLATAFORMAS ELECTRÓNICAS O DIGITALES DE SERVICIOS TURÍSTICOS'\n",
            " 'COMPAÑÍAS DE INTERCAMBIO VACACIONAL' 'ORGANIZADORES DE BODA DESTINO'\n",
            " 'OTROS TIPOS DE HOSPEDAJE TURÍSTICOS NO PERMANENTES']\n"
          ]
        }
      ]
    }
  ]
}